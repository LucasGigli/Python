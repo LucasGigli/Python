{
  "nbformat": 4,
  "nbformat_minor": 0,
  "metadata": {
    "colab": {
      "name": "ProgrammingCA2 - Final Report.ipynb",
      "provenance": [],
      "collapsed_sections": [],
      "authorship_tag": "ABX9TyPfBJQraNgSpK0O9u2pc9kN",
      "include_colab_link": true
    },
    "kernelspec": {
      "name": "python3",
      "display_name": "Python 3"
    },
    "language_info": {
      "name": "python"
    }
  },
  "cells": [
    {
      "cell_type": "markdown",
      "metadata": {
        "id": "view-in-github",
        "colab_type": "text"
      },
      "source": [
        "<a href=\"https://colab.research.google.com/github/LucasGigli/Datascience/blob/main/ProgrammingCA2_Final_Report.ipynb\" target=\"_parent\"><img src=\"https://colab.research.google.com/assets/colab-badge.svg\" alt=\"Open In Colab\"/></a>"
      ]
    },
    {
      "cell_type": "code",
      "metadata": {
        "id": "TRMnKbLJAR4T"
      },
      "source": [
        "with open('Employees.txt','w') as f:\n",
        "  f.write('''12345 Green Joe 37 16 1.5 70 700''')\n",
        "  f.close()\n",
        "with open('Hours.txt','w') as fz:\n",
        "  fz.write('''12345  31/10/2021  42''')\n",
        "  f.close()"
      ],
      "execution_count": 1,
      "outputs": []
    },
    {
      "cell_type": "code",
      "metadata": {
        "colab": {
          "base_uri": "https://localhost:8080/"
        },
        "id": "deMP2OV3MHkq",
        "outputId": "a7ff1d16-d8e1-4f81-f4a1-31a9de698a3b"
      },
      "source": [
        "class Employee:\n",
        "  Employees = {}\n",
        "  Std_rate = 0.2\n",
        "  Higher_rate = 0.4\n",
        "\n",
        "  def __init__(self,StaffID,LastName,FirstName,RegHours,HourlyRate,OTMultiple,TaxCredit,StandardBand):\n",
        "    self.Employees = {}\n",
        "    self.StaffID = StaffID\n",
        "    self.LastName = LastName\n",
        "    self.FirstName = FirstName\n",
        "    self.RegHours = RegHours\n",
        "    self.HourlyRate = HourlyRate\n",
        "    self.OTMultiple = OTMultiple\n",
        "    self.TaxCredit = TaxCredit\n",
        "    self.StandardBand = StandardBand\n",
        "\n",
        "\n",
        "  def setup(Employeesfile):\n",
        "      with open(Employeesfile) as f:\n",
        "        for line in f:\n",
        "          StaffID,LastName,FirstName,RegHours,HourlyRate,OTMultiple,TaxCredit,StandardBand = line.split()\n",
        "          Employee.Employees[StaffID] = Employee(StaffID,LastName,FirstName,float(RegHours),float(HourlyRate),float(OTMultiple),float(TaxCredit),float(StandardBand)) \n",
        "\n",
        "  def ComputePayment(self, HoursWorked, Date):\n",
        "      HoursWorked = float (HoursWorked) ; Date = str(Date)\n",
        "      Total = 0\n",
        "      HoursWOrked = 0 \n",
        "      if HoursWorked < self.RegHours:\n",
        "        Rh = HoursWorked \n",
        "      else:\n",
        "        Rh = self.RegHours\n",
        "      if HoursWorked > self.RegHours:\n",
        "        Oh = HoursWorked - self.RegHours\n",
        "      else:\n",
        "        Oh = 0\n",
        "      Or = self.OTMultiple * self.HourlyRate\n",
        "      if HoursWorked > self.RegHours:\n",
        "        Rp = self.RegHours*self.HourlyRate\n",
        "      else:\n",
        "        Rp = HoursWorked * self.HourlyRate\n",
        "      if HoursWorked > self.RegHours:\n",
        "        Op = (float(HoursWorked) - self.RegHours) * (self.OTMultiple * self.HourlyRate)\n",
        "      else:\n",
        "        Op = 0\n",
        "      if float(HoursWorked)> self.RegHours:\n",
        "        Gp = ((float(HoursWorked) - self.RegHours ) * (self.OTMultiple * self.HourlyRate)) + (self.RegHours * self.HourlyRate)\n",
        "      else:\n",
        "        Gp= float(HoursWorked)*self.HourlyRate\n",
        "      if Gp > self.StandardBand:\n",
        "        Spay = self.StandardBand\n",
        "      else:\n",
        "        Spay = Gp\n",
        "      if HoursWorked > self.RegHours:\n",
        "        Hrp = ((float(HoursWorked) - self.RegHours ) * (self.OTMultiple * self.HourlyRate))\n",
        "      else:\n",
        "        Hrp = 0 \n",
        "      if Gp > self.StandardBand:\n",
        "        Stax = self.StandardBand * Employee.Std_rate\n",
        "      else:\n",
        "        Stax = Gp * Employee.Std_rate\n",
        "      if Gp > self.StandardBand:\n",
        "        Htax = (Gp - self.StandardBand) * Employee.Higher_rate\n",
        "      else:\n",
        "        Htax = 0 \n",
        "      if Gp > self.StandardBand:\n",
        "        T = Stax + Htax\n",
        "      else:\n",
        "        T = Stax\n",
        "      Nd = T - self.TaxCredit\n",
        "      if Nd < 0:\n",
        "        Nd = 0\n",
        "      NetPay = Gp - Nd \n",
        "      CP = {'Name': self.FirstName+\" \"+self.LastName, 'Date': Date, 'Hours Worked': HoursWorked, 'Regular Hours Worked': Rh, 'Overtime Hours Worked': Oh, 'Regular Rate': self.HourlyRate, 'Overtime Pay': Op,'Gross Pay': Gp, 'Standard Rate Pay': Spay, 'Higher Rate Pay': Hrp, 'Standard Tax': Stax, 'Higher Tax': Htax, 'Total Tax': T, 'Net Deduction': Nd, 'Net Pay': NetPay}\n",
        "      return CP\n",
        "\n",
        "\n",
        "Employee.setup('Employees.txt')\n",
        "jg = Employee('12345','Green','Joe',37,16,1.5,70,700)\n",
        "jg.ComputePayment(42,'31/10/2021')\n",
        "\n",
        "\n"
      ],
      "execution_count": 14,
      "outputs": [
        {
          "output_type": "execute_result",
          "data": {
            "text/plain": [
              "{'Date': '31/10/2021',\n",
              " 'Gross Pay': 712.0,\n",
              " 'Higher Rate Pay': 120.0,\n",
              " 'Higher Tax': 4.800000000000001,\n",
              " 'Hours Worked': 42.0,\n",
              " 'Name': 'Joe Green',\n",
              " 'Net Deduction': 74.80000000000001,\n",
              " 'Net Pay': 637.2,\n",
              " 'Overtime Hours Worked': 5.0,\n",
              " 'Overtime Pay': 120.0,\n",
              " 'Regular Hours Worked': 37,\n",
              " 'Regular Rate': 16,\n",
              " 'Standard Rate Pay': 700,\n",
              " 'Standard Tax': 140.0,\n",
              " 'Total Tax': 144.8}"
            ]
          },
          "metadata": {},
          "execution_count": 14
        }
      ]
    },
    {
      "cell_type": "code",
      "metadata": {
        "colab": {
          "base_uri": "https://localhost:8080/"
        },
        "id": "27E3j2-ZiXfn",
        "outputId": "fda61e3e-e153-4009-e17d-a834c42b52c4"
      },
      "source": [
        "import unittest\n",
        "\n",
        "class testTest(unittest.TestCase):\n",
        "  def test_NetLessEqualGross(self):\n",
        "    e=Employee('12345','Green','Joe',37,16,1.5,70,700)\n",
        "    pi = e.ComputePayment(1,'31/10/2021')\n",
        "    self.assertLessEqual(pi['Net Pay'],pi['Gross Pay'])\n",
        "  \n",
        "  def Test_OvertimenotNegative(self):\n",
        "    e=Employee('12345','Green','Joe',37,16,1.5,70,700)\n",
        "    pi = e.ComputePayment(1,'31/10/2021')\n",
        "    self.assertGreaterEqual(pi['Overtime Hours Worked'],0)\n",
        "    self.assertGreaterEqual(pi['Overtime Pay'],0)\n",
        "\n",
        "  def test_RegularHoursCannotExceedHoursWorked(self):\n",
        "    e=Employee('12345','Green','Joe',37,16,1.5,70,700)\n",
        "    pi = e.ComputePayment(1,'31/10/2021')\n",
        "    self.assertLessEqual(pi['Regular Hours Worked'],pi['Hours Worked'])\n",
        "\n",
        "  def test_HigherTaxCannotBeNegative(self):\n",
        "    e=Employee('12345','Green','Joe',37,16,1.5,70,700)\n",
        "    pi = e.ComputePayment(1,'31/10/2021')\n",
        "    self.assertGreaterEqual(pi['Higher Tax'],0)\n",
        "\n",
        "  \n",
        "  def test_NetPayCannotbeNegative(self):\n",
        "    e=Employee('12345','Green','Joe',37,16,1.5,70,700)\n",
        "    pi = e.ComputePayment(1,'31/10/2021')\n",
        "    self.assertGreaterEqual(pi['Net Pay'],0)\n",
        "\n",
        "\n",
        "unittest.main(argv=['ignored', '-v'], exit=False)"
      ],
      "execution_count": 13,
      "outputs": [
        {
          "output_type": "stream",
          "name": "stderr",
          "text": [
            "test_HigherTaxCannotBeNegative (__main__.testTest) ... ok\n",
            "test_NetLessEqualGross (__main__.testTest) ... ok\n",
            "test_NetPayCannotbeNegative (__main__.testTest) ... ok\n",
            "test_RegularHoursCannotExceedHoursWorked (__main__.testTest) ... ok\n",
            "\n",
            "----------------------------------------------------------------------\n",
            "Ran 4 tests in 0.007s\n",
            "\n",
            "OK\n"
          ]
        },
        {
          "output_type": "execute_result",
          "data": {
            "text/plain": [
              "<unittest.main.TestProgram at 0x7f8dac017110>"
            ]
          },
          "metadata": {},
          "execution_count": 13
        }
      ]
    },
    {
      "cell_type": "code",
      "metadata": {
        "id": "ioc_Eb8DMtoM"
      },
      "source": [
        ""
      ],
      "execution_count": null,
      "outputs": []
    }
  ]
}
